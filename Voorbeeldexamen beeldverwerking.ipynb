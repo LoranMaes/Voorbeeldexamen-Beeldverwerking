{
 "cells": [
  {
   "cell_type": "code",
   "execution_count": 14,
   "metadata": {},
   "outputs": [],
   "source": [
    "# importeer libraries\n",
    "from PIL import Image\n",
    "import math\n",
    "import numpy as np\n",
    "\n",
    "tekening = Image.new('RGB', (900, 600), color = 'grey')\n",
    "tekening.save('tekening.jpg')\n",
    "\n",
    "input_image = Image.open(\"tekening.jpg\")\n",
    "r_image_in, g_image_in, b_image_in = input_image.split()\n",
    "r_in = np.uint32(np.array(r_image_in))\n",
    "g_in = np.uint32(np.array(g_image_in))\n",
    "b_in = np.uint32(np.array(b_image_in))\n",
    "\n",
    "r_out = np.zeros((r_in.shape[0], r_in.shape[1]))\n",
    "g_out = np.zeros((g_in.shape[0], g_in.shape[1]))\n",
    "b_out = np.zeros((b_in.shape[0], b_in.shape[1]))\n",
    "\n",
    "for i in range(r_out.shape[0]):\n",
    "    for j in range(r_out.shape[1]):\n",
    "        \n",
    "        if math.sqrt((i-360)**2 + (j-450)**2) < 120:\n",
    "            r_out [i][j] = r_in[i][j]\n",
    "            g_out [i][j] = 0\n",
    "            b_out [i][j] = 0\n",
    "        \n",
    "        if math.sqrt((i-270)**2 + (j-540)**2) < 180:\n",
    "            r_out [i][j] = 0\n",
    "            g_out [i][j] = g_in[i][j]\n",
    "            b_out [i][j] = 0\n",
    "        \n",
    "        if math.sqrt((i-270)**2 + (j-540)**2) < 180 and math.sqrt((i-360)**2 + (j-450)**2) < 120:\n",
    "            r_out [i][j] = 255\n",
    "            g_out [i][j] = 255\n",
    "            b_out [i][j] = 0\n",
    "        \n",
    "        elif math.sqrt((i-270)**2 + (j-540)**2) > 180 and math.sqrt((i-360)**2 + (j-450)**2) > 120:\n",
    "            average = (r_in[i][j] + g_in[i][j] + b_in[i][j])/3\n",
    "            r_out [i][j] = average\n",
    "            g_out [i][j] = average\n",
    "            b_out [i][j] = average\n",
    "            \n",
    "        \n",
    "# converteer drie matrices terug naar een afbeelding\n",
    "r_image_out = Image.fromarray(np.uint8(r_out))\n",
    "g_image_out = Image.fromarray(np.uint8(g_out))\n",
    "b_image_out = Image.fromarray(np.uint8(b_out))\n",
    "output_im = Image.merge(\"RGB\", (r_image_out, g_image_out, b_image_out))\n",
    "output_im.show()"
   ]
  },
  {
   "cell_type": "code",
   "execution_count": null,
   "metadata": {},
   "outputs": [],
   "source": []
  }
 ],
 "metadata": {
  "kernelspec": {
   "display_name": "Python 3",
   "language": "python",
   "name": "python3"
  },
  "language_info": {
   "codemirror_mode": {
    "name": "ipython",
    "version": 3
   },
   "file_extension": ".py",
   "mimetype": "text/x-python",
   "name": "python",
   "nbconvert_exporter": "python",
   "pygments_lexer": "ipython3",
   "version": "3.8.5"
  }
 },
 "nbformat": 4,
 "nbformat_minor": 4
}
